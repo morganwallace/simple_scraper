{
 "metadata": {
  "name": ""
 },
 "nbformat": 3,
 "nbformat_minor": 0,
 "worksheets": [
  {
   "cells": [
    {
     "cell_type": "code",
     "collapsed": false,
     "input": [
      "from lxml import html"
     ],
     "language": "python",
     "metadata": {},
     "outputs": [],
     "prompt_number": 3
    },
    {
     "cell_type": "code",
     "collapsed": false,
     "input": [
      "parsedObj = html.parse(\"http://berkeley-crossfit.com/2013/12/03/wod-12-03-2013/\")\n",
      "items=parsedObj.xpath('//*[@class=\"entry-content\"]/p/text()')"
     ],
     "language": "python",
     "metadata": {},
     "outputs": [],
     "prompt_number": 19
    },
    {
     "cell_type": "code",
     "collapsed": false,
     "input": [
      "wod=[]\n",
      "for i in items:\n",
      "    if len(i)>3:\n",
      "        wod.append(i.strip())\n",
      "wod\n"
     ],
     "language": "python",
     "metadata": {},
     "outputs": [
      {
       "metadata": {},
       "output_type": "pyout",
       "prompt_number": 18,
       "text": [
        "['Back Squat',\n",
        " '3-3-3-3',\n",
        " '21-15-9',\n",
        " 'Back Squat (155/105)',\n",
        " 'Pull-Ups',\n",
        " 'Welcome to BCF Charlotte!']"
       ]
      }
     ],
     "prompt_number": 18
    },
    {
     "cell_type": "code",
     "collapsed": false,
     "input": [
      "data={}"
     ],
     "language": "python",
     "metadata": {},
     "outputs": []
    }
   ],
   "metadata": {}
  }
 ]
}